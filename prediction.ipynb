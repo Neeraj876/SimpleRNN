{
 "cells": [
  {
   "cell_type": "code",
   "execution_count": 10,
   "metadata": {},
   "outputs": [],
   "source": [
    "# Step 1: Import Libraries and Load the Model\n",
    "import numpy as np\n",
    "import tensorflow as tf\n",
    "from tensorflow.keras.datasets import imdb\n",
    "from tensorflow.keras.preprocessing import sequence\n",
    "from tensorflow.keras.models import load_model"
   ]
  },
  {
   "cell_type": "code",
   "execution_count": 11,
   "metadata": {},
   "outputs": [],
   "source": [
    "# Load the IMDB dataset word index\n",
    "word_index = imdb.get_word_index()\n",
    "reverse_word_index = {value: key for key, value in word_index.items()}"
   ]
  },
  {
   "cell_type": "code",
   "execution_count": 12,
   "metadata": {},
   "outputs": [
    {
     "name": "stderr",
     "output_type": "stream",
     "text": [
      "WARNING:absl:Compiled the loaded model, but the compiled metrics have yet to be built. `model.compile_metrics` will be empty until you train or evaluate the model.\n"
     ]
    },
    {
     "data": {
      "text/html": [
       "<pre style=\"white-space:pre;overflow-x:auto;line-height:normal;font-family:Menlo,'DejaVu Sans Mono',consolas,'Courier New',monospace\"><span style=\"font-weight: bold\">Model: \"sequential\"</span>\n",
       "</pre>\n"
      ],
      "text/plain": [
       "\u001b[1mModel: \"sequential\"\u001b[0m\n"
      ]
     },
     "metadata": {},
     "output_type": "display_data"
    },
    {
     "data": {
      "text/html": [
       "<pre style=\"white-space:pre;overflow-x:auto;line-height:normal;font-family:Menlo,'DejaVu Sans Mono',consolas,'Courier New',monospace\">┏━━━━━━━━━━━━━━━━━━━━━━━━━━━━━━━━━┳━━━━━━━━━━━━━━━━━━━━━━━━┳━━━━━━━━━━━━━━━┓\n",
       "┃<span style=\"font-weight: bold\"> Layer (type)                    </span>┃<span style=\"font-weight: bold\"> Output Shape           </span>┃<span style=\"font-weight: bold\">       Param # </span>┃\n",
       "┡━━━━━━━━━━━━━━━━━━━━━━━━━━━━━━━━━╇━━━━━━━━━━━━━━━━━━━━━━━━╇━━━━━━━━━━━━━━━┩\n",
       "│ embedding (<span style=\"color: #0087ff; text-decoration-color: #0087ff\">Embedding</span>)           │ (<span style=\"color: #00af00; text-decoration-color: #00af00\">32</span>, <span style=\"color: #00af00; text-decoration-color: #00af00\">500</span>, <span style=\"color: #00af00; text-decoration-color: #00af00\">128</span>)         │     <span style=\"color: #00af00; text-decoration-color: #00af00\">1,280,000</span> │\n",
       "├─────────────────────────────────┼────────────────────────┼───────────────┤\n",
       "│ simple_rnn (<span style=\"color: #0087ff; text-decoration-color: #0087ff\">SimpleRNN</span>)          │ (<span style=\"color: #00af00; text-decoration-color: #00af00\">32</span>, <span style=\"color: #00af00; text-decoration-color: #00af00\">128</span>)              │        <span style=\"color: #00af00; text-decoration-color: #00af00\">32,896</span> │\n",
       "├─────────────────────────────────┼────────────────────────┼───────────────┤\n",
       "│ dense (<span style=\"color: #0087ff; text-decoration-color: #0087ff\">Dense</span>)                   │ (<span style=\"color: #00af00; text-decoration-color: #00af00\">32</span>, <span style=\"color: #00af00; text-decoration-color: #00af00\">1</span>)                │           <span style=\"color: #00af00; text-decoration-color: #00af00\">129</span> │\n",
       "└─────────────────────────────────┴────────────────────────┴───────────────┘\n",
       "</pre>\n"
      ],
      "text/plain": [
       "┏━━━━━━━━━━━━━━━━━━━━━━━━━━━━━━━━━┳━━━━━━━━━━━━━━━━━━━━━━━━┳━━━━━━━━━━━━━━━┓\n",
       "┃\u001b[1m \u001b[0m\u001b[1mLayer (type)                   \u001b[0m\u001b[1m \u001b[0m┃\u001b[1m \u001b[0m\u001b[1mOutput Shape          \u001b[0m\u001b[1m \u001b[0m┃\u001b[1m \u001b[0m\u001b[1m      Param #\u001b[0m\u001b[1m \u001b[0m┃\n",
       "┡━━━━━━━━━━━━━━━━━━━━━━━━━━━━━━━━━╇━━━━━━━━━━━━━━━━━━━━━━━━╇━━━━━━━━━━━━━━━┩\n",
       "│ embedding (\u001b[38;5;33mEmbedding\u001b[0m)           │ (\u001b[38;5;34m32\u001b[0m, \u001b[38;5;34m500\u001b[0m, \u001b[38;5;34m128\u001b[0m)         │     \u001b[38;5;34m1,280,000\u001b[0m │\n",
       "├─────────────────────────────────┼────────────────────────┼───────────────┤\n",
       "│ simple_rnn (\u001b[38;5;33mSimpleRNN\u001b[0m)          │ (\u001b[38;5;34m32\u001b[0m, \u001b[38;5;34m128\u001b[0m)              │        \u001b[38;5;34m32,896\u001b[0m │\n",
       "├─────────────────────────────────┼────────────────────────┼───────────────┤\n",
       "│ dense (\u001b[38;5;33mDense\u001b[0m)                   │ (\u001b[38;5;34m32\u001b[0m, \u001b[38;5;34m1\u001b[0m)                │           \u001b[38;5;34m129\u001b[0m │\n",
       "└─────────────────────────────────┴────────────────────────┴───────────────┘\n"
      ]
     },
     "metadata": {},
     "output_type": "display_data"
    },
    {
     "data": {
      "text/html": [
       "<pre style=\"white-space:pre;overflow-x:auto;line-height:normal;font-family:Menlo,'DejaVu Sans Mono',consolas,'Courier New',monospace\"><span style=\"font-weight: bold\"> Total params: </span><span style=\"color: #00af00; text-decoration-color: #00af00\">1,313,027</span> (5.01 MB)\n",
       "</pre>\n"
      ],
      "text/plain": [
       "\u001b[1m Total params: \u001b[0m\u001b[38;5;34m1,313,027\u001b[0m (5.01 MB)\n"
      ]
     },
     "metadata": {},
     "output_type": "display_data"
    },
    {
     "data": {
      "text/html": [
       "<pre style=\"white-space:pre;overflow-x:auto;line-height:normal;font-family:Menlo,'DejaVu Sans Mono',consolas,'Courier New',monospace\"><span style=\"font-weight: bold\"> Trainable params: </span><span style=\"color: #00af00; text-decoration-color: #00af00\">1,313,025</span> (5.01 MB)\n",
       "</pre>\n"
      ],
      "text/plain": [
       "\u001b[1m Trainable params: \u001b[0m\u001b[38;5;34m1,313,025\u001b[0m (5.01 MB)\n"
      ]
     },
     "metadata": {},
     "output_type": "display_data"
    },
    {
     "data": {
      "text/html": [
       "<pre style=\"white-space:pre;overflow-x:auto;line-height:normal;font-family:Menlo,'DejaVu Sans Mono',consolas,'Courier New',monospace\"><span style=\"font-weight: bold\"> Non-trainable params: </span><span style=\"color: #00af00; text-decoration-color: #00af00\">0</span> (0.00 B)\n",
       "</pre>\n"
      ],
      "text/plain": [
       "\u001b[1m Non-trainable params: \u001b[0m\u001b[38;5;34m0\u001b[0m (0.00 B)\n"
      ]
     },
     "metadata": {},
     "output_type": "display_data"
    },
    {
     "data": {
      "text/html": [
       "<pre style=\"white-space:pre;overflow-x:auto;line-height:normal;font-family:Menlo,'DejaVu Sans Mono',consolas,'Courier New',monospace\"><span style=\"font-weight: bold\"> Optimizer params: </span><span style=\"color: #00af00; text-decoration-color: #00af00\">2</span> (12.00 B)\n",
       "</pre>\n"
      ],
      "text/plain": [
       "\u001b[1m Optimizer params: \u001b[0m\u001b[38;5;34m2\u001b[0m (12.00 B)\n"
      ]
     },
     "metadata": {},
     "output_type": "display_data"
    }
   ],
   "source": [
    "# Load the pre-trained model with ReLU activation\n",
    "model = load_model('simple_rnn_imdb.h5')\n",
    "model.summary()"
   ]
  },
  {
   "cell_type": "code",
   "execution_count": 13,
   "metadata": {},
   "outputs": [
    {
     "data": {
      "text/plain": [
       "[array([[ 2.73595750e-01, -1.21673632e+00,  8.39170694e-01, ...,\n",
       "         -8.14148009e-01,  1.00118625e+00, -7.60800838e-01],\n",
       "        [ 6.35524988e-02, -6.01643622e-02,  6.03432916e-02, ...,\n",
       "         -3.80969159e-02,  2.35435292e-02, -1.14691546e-02],\n",
       "        [-6.99521799e-04,  2.46281568e-02, -4.45931070e-02, ...,\n",
       "         -4.65718955e-02, -1.51041001e-02, -2.83867586e-02],\n",
       "        ...,\n",
       "        [-3.75474803e-03, -1.35523500e-02,  5.91867603e-02, ...,\n",
       "          1.25739098e-01,  2.38831379e-02,  7.04410207e-03],\n",
       "        [ 3.84739824e-02,  1.24154091e-02,  7.11754039e-02, ...,\n",
       "          7.04680607e-02, -4.13576588e-02, -8.68496150e-02],\n",
       "        [-2.18876064e-01,  1.18180335e-01,  1.10098347e-01, ...,\n",
       "         -1.28647655e-01,  1.54463157e-01,  2.58681979e-02]], dtype=float32),\n",
       " array([[-0.01040209,  0.13259615, -0.03559013, ...,  0.11385249,\n",
       "         -0.096366  , -0.00518351],\n",
       "        [-0.11728182,  0.24217811,  0.15571949, ...,  0.01535672,\n",
       "         -0.06930447,  0.02811392],\n",
       "        [ 0.14637864,  0.14064394, -0.00544703, ...,  0.00107333,\n",
       "          0.04288799, -0.0030397 ],\n",
       "        ...,\n",
       "        [ 0.16216478, -0.05365985, -0.01283738, ..., -0.14052866,\n",
       "          0.05937741,  0.0818577 ],\n",
       "        [-0.04486748, -0.03893863,  0.08048227, ..., -0.08308502,\n",
       "          0.10062454,  0.01318302],\n",
       "        [ 0.07535719, -0.0839164 , -0.02167509, ...,  0.03919656,\n",
       "         -0.03731321, -0.053797  ]], dtype=float32),\n",
       " array([[-0.02909419,  0.05118647,  0.04365436, ...,  0.1597772 ,\n",
       "          0.01691791, -0.05013527],\n",
       "        [-0.0562763 ,  0.01462686,  0.01066546, ..., -0.071082  ,\n",
       "         -0.09020887,  0.00564438],\n",
       "        [ 0.03222924, -0.01439808,  0.05230792, ...,  0.19051129,\n",
       "          0.07123461,  0.19275987],\n",
       "        ...,\n",
       "        [-0.06764508,  0.01397336,  0.23095138, ..., -0.01556138,\n",
       "         -0.12283901,  0.07974058],\n",
       "        [-0.23069379, -0.11266487,  0.13660595, ..., -0.11985681,\n",
       "         -0.00788317,  0.05568884],\n",
       "        [-0.0118052 , -0.12144243,  0.24208543, ..., -0.10682887,\n",
       "         -0.00471958,  0.03719946]], dtype=float32),\n",
       " array([-5.68096200e-03,  1.59635376e-02, -2.05812957e-02, -1.76977459e-02,\n",
       "         1.76684521e-02,  1.13812909e-02, -1.25158885e-02, -2.50585414e-02,\n",
       "         1.54719641e-02,  3.62069607e-02, -2.28224192e-02, -1.85331665e-02,\n",
       "        -1.11449044e-02, -1.33337891e-02, -3.15408446e-02, -2.71935761e-02,\n",
       "         3.28708589e-02,  9.65531915e-03, -1.05860736e-02,  5.90815321e-02,\n",
       "        -2.05140878e-02, -1.92272384e-02,  2.75278576e-02,  7.61523610e-04,\n",
       "        -9.31396056e-03, -2.23679859e-02,  2.04804763e-02,  1.23527888e-02,\n",
       "        -2.24871580e-02, -2.36290190e-02, -1.66937001e-02, -2.11683344e-02,\n",
       "        -4.04683407e-03,  2.90628094e-02, -1.94317605e-02, -4.90597496e-03,\n",
       "        -1.51149072e-02, -1.23561578e-04, -2.18771528e-02,  3.55485268e-03,\n",
       "        -1.94955524e-02, -1.72554180e-02,  4.54722019e-03,  1.36511913e-02,\n",
       "        -1.30788367e-02,  1.92254949e-02, -5.30411908e-03, -2.32761279e-02,\n",
       "         2.24205423e-02, -8.21054913e-03, -1.98144559e-03,  1.90580040e-02,\n",
       "         9.19993129e-03, -8.99673812e-03,  1.28612518e-02, -9.91249643e-03,\n",
       "        -1.22191841e-02,  7.71427201e-03, -9.51128453e-03, -1.28227221e-02,\n",
       "        -7.80575350e-03, -1.85737468e-03,  9.33318806e-04, -1.98679268e-02,\n",
       "         2.30518803e-02,  3.95257957e-02, -2.06102822e-02, -9.35317390e-03,\n",
       "        -3.02476175e-02,  9.30772920e-04, -3.96375032e-03,  1.07002642e-03,\n",
       "        -1.62093379e-02, -9.33005195e-03, -8.83781537e-03, -2.76286565e-02,\n",
       "        -5.92459459e-03, -2.13784259e-02, -3.14047784e-02, -2.02679634e-02,\n",
       "        -1.05332499e-02, -3.81731149e-03,  8.96439236e-03,  9.60985199e-03,\n",
       "        -8.48557893e-03, -9.10004042e-03,  9.44151357e-03,  4.09560129e-02,\n",
       "        -2.46984158e-02, -1.35783246e-02,  5.95688000e-02,  1.70230679e-02,\n",
       "        -3.73957455e-02,  4.05300632e-02, -1.38014983e-02, -1.81259178e-02,\n",
       "        -6.83782063e-03,  2.67120183e-01, -1.21521102e-02, -2.79769357e-02,\n",
       "         3.90909836e-02, -3.25741507e-02, -9.40620061e-03, -9.94794164e-03,\n",
       "        -8.95297993e-03, -3.60427536e-02, -2.33966745e-02,  4.87343110e-02,\n",
       "        -2.55414322e-02, -2.75711678e-02, -3.38751497e-03, -1.29765486e-02,\n",
       "         1.20436745e-02, -1.97711885e-02, -8.55452567e-03, -2.53985040e-02,\n",
       "        -2.85359705e-03,  9.01671126e-04, -2.58337110e-02, -3.26195732e-03,\n",
       "        -4.94799800e-02, -1.53408675e-02, -4.02578525e-02, -1.90750118e-02,\n",
       "        -2.88532116e-02, -2.20241044e-02, -8.06965865e-03, -2.74316818e-02],\n",
       "       dtype=float32),\n",
       " array([[ 2.08281696e-01],\n",
       "        [-1.62751704e-01],\n",
       "        [ 1.27500117e-01],\n",
       "        [-3.82058978e-01],\n",
       "        [ 5.23622870e-01],\n",
       "        [ 1.43831655e-01],\n",
       "        [ 1.64408281e-01],\n",
       "        [ 7.80744478e-02],\n",
       "        [-1.24456418e+00],\n",
       "        [ 9.71553206e-01],\n",
       "        [-1.00654969e-02],\n",
       "        [ 1.89546496e-01],\n",
       "        [ 2.01535821e-01],\n",
       "        [ 1.29425943e-01],\n",
       "        [ 8.58344913e-01],\n",
       "        [ 3.19580883e-02],\n",
       "        [-2.18835190e-01],\n",
       "        [ 2.15265691e-01],\n",
       "        [ 3.80395174e-01],\n",
       "        [-3.02206967e-02],\n",
       "        [-4.35971953e-02],\n",
       "        [ 1.30433589e-01],\n",
       "        [-1.33326113e-01],\n",
       "        [-8.31790864e-02],\n",
       "        [-1.58439204e-01],\n",
       "        [ 1.57359704e-01],\n",
       "        [-1.10302709e-01],\n",
       "        [-1.48889303e-01],\n",
       "        [ 2.46739626e-01],\n",
       "        [-2.32942969e-01],\n",
       "        [ 8.97002816e-02],\n",
       "        [ 7.81383738e-02],\n",
       "        [ 1.48167402e-01],\n",
       "        [-1.50528073e-01],\n",
       "        [-1.24343373e-01],\n",
       "        [ 1.57914653e-01],\n",
       "        [ 2.09164709e-01],\n",
       "        [-7.49508962e-02],\n",
       "        [ 5.80852091e-01],\n",
       "        [-2.02936493e-02],\n",
       "        [-1.58510178e-01],\n",
       "        [-1.78691849e-01],\n",
       "        [ 1.04553783e-02],\n",
       "        [-3.85845602e-01],\n",
       "        [ 7.40456134e-02],\n",
       "        [ 1.73988596e-01],\n",
       "        [ 3.27842459e-02],\n",
       "        [ 1.33158958e+00],\n",
       "        [ 5.92202172e-02],\n",
       "        [ 1.55346438e-01],\n",
       "        [-1.91809848e-01],\n",
       "        [ 3.26851577e-01],\n",
       "        [ 6.92845061e-02],\n",
       "        [-9.54097509e-02],\n",
       "        [-6.16914127e-03],\n",
       "        [ 6.82281237e-03],\n",
       "        [ 3.50949280e-02],\n",
       "        [ 7.61106610e-01],\n",
       "        [-6.65068477e-02],\n",
       "        [-1.60612464e-01],\n",
       "        [ 3.56795080e-02],\n",
       "        [ 4.99609299e-02],\n",
       "        [-6.45665526e-02],\n",
       "        [ 4.23889965e-01],\n",
       "        [ 5.63787238e-04],\n",
       "        [-6.52392060e-02],\n",
       "        [-1.07479692e-01],\n",
       "        [ 2.18054801e-01],\n",
       "        [ 2.76289791e-01],\n",
       "        [ 6.32515252e-01],\n",
       "        [ 1.17521489e+00],\n",
       "        [ 1.15520015e-01],\n",
       "        [ 2.03773469e-01],\n",
       "        [-1.19793944e-01],\n",
       "        [ 1.18037432e-01],\n",
       "        [ 6.28012791e-02],\n",
       "        [ 1.33780181e-01],\n",
       "        [-3.17292921e-02],\n",
       "        [ 5.52809060e-01],\n",
       "        [ 2.05192909e-01],\n",
       "        [-1.82513803e-01],\n",
       "        [-1.83436364e-01],\n",
       "        [ 5.40031679e-02],\n",
       "        [ 1.63723141e-01],\n",
       "        [ 5.00984006e-02],\n",
       "        [-1.86326839e-02],\n",
       "        [-6.43884689e-02],\n",
       "        [ 8.46168548e-02],\n",
       "        [ 4.70072210e-01],\n",
       "        [ 1.40734687e-01],\n",
       "        [-2.58109897e-01],\n",
       "        [-1.00377440e-01],\n",
       "        [ 2.14971974e-01],\n",
       "        [-9.12358686e-02],\n",
       "        [ 1.77805692e-01],\n",
       "        [ 1.23928532e-01],\n",
       "        [ 3.76967969e-03],\n",
       "        [ 9.41624120e-02],\n",
       "        [ 1.83303565e-01],\n",
       "        [ 9.61644724e-02],\n",
       "        [ 8.61864984e-02],\n",
       "        [-7.43992925e-02],\n",
       "        [ 1.24502830e-01],\n",
       "        [ 1.13016710e-01],\n",
       "        [ 8.54955375e-01],\n",
       "        [-2.49107610e-02],\n",
       "        [ 7.72934109e-02],\n",
       "        [-6.27878010e-02],\n",
       "        [-4.37023342e-02],\n",
       "        [ 1.32308707e-01],\n",
       "        [ 1.38375297e-01],\n",
       "        [-8.94681662e-02],\n",
       "        [-2.26980954e-01],\n",
       "        [ 6.37998432e-02],\n",
       "        [ 1.19628027e-01],\n",
       "        [ 1.53542116e-01],\n",
       "        [ 1.82300463e-01],\n",
       "        [ 2.30482608e-01],\n",
       "        [ 5.58746219e-01],\n",
       "        [-8.16470832e-02],\n",
       "        [-2.33170509e-01],\n",
       "        [ 1.10527836e-02],\n",
       "        [-3.46291177e-02],\n",
       "        [-3.42080146e-02],\n",
       "        [ 7.65618160e-02],\n",
       "        [ 1.04279183e-01],\n",
       "        [ 2.00103432e-01],\n",
       "        [-2.01350719e-01]], dtype=float32),\n",
       " array([1.1936177], dtype=float32)]"
      ]
     },
     "execution_count": 13,
     "metadata": {},
     "output_type": "execute_result"
    }
   ],
   "source": [
    "model.get_weights()"
   ]
  },
  {
   "cell_type": "code",
   "execution_count": 14,
   "metadata": {},
   "outputs": [],
   "source": [
    "# Step 2: Helper Functions\n",
    "# Function to decode reviews\n",
    "def decode_review(encoded_review):\n",
    "    return ' '.join([reverse_word_index.get(i - 3, '?') for i in encoded_review])\n",
    "\n",
    "# Function to preprocess user input\n",
    "def preprocess_text(text):\n",
    "    words = text.lower().split()\n",
    "    encoded_review = [word_index.get(word, 2) + 3 for word in words]\n",
    "    padded_review = sequence.pad_sequences([encoded_review], maxlen=500)\n",
    "    return padded_review"
   ]
  },
  {
   "cell_type": "code",
   "execution_count": 15,
   "metadata": {},
   "outputs": [],
   "source": [
    "### Prediction  function\n",
    "\n",
    "def predict_sentiment(review):\n",
    "    preprocessed_input=preprocess_text(review)\n",
    "\n",
    "    prediction=model.predict(preprocessed_input)\n",
    "\n",
    "    sentiment = 'Positive' if prediction[0][0] > 0.5 else 'Negative'\n",
    "    \n",
    "    return sentiment, prediction[0][0]\n",
    "\n"
   ]
  },
  {
   "cell_type": "code",
   "execution_count": 16,
   "metadata": {},
   "outputs": [
    {
     "name": "stdout",
     "output_type": "stream",
     "text": [
      "\u001b[1m1/1\u001b[0m \u001b[32m━━━━━━━━━━━━━━━━━━━━\u001b[0m\u001b[37m\u001b[0m \u001b[1m0s\u001b[0m 229ms/step\n",
      "Review: This movie was fantastic! The acting was great and the plot was thrilling.\n",
      "Sentiment: Positive\n",
      "Prediction Score: 0.52506023645401\n"
     ]
    }
   ],
   "source": [
    "# Step 4: User Input and Prediction\n",
    "# Example review for prediction\n",
    "example_review = \"This movie was fantastic! The acting was great and the plot was thrilling.\"\n",
    "\n",
    "sentiment,score=predict_sentiment(example_review)\n",
    "\n",
    "print(f'Review: {example_review}')\n",
    "print(f'Sentiment: {sentiment}')\n",
    "print(f'Prediction Score: {score}')"
   ]
  },
  {
   "cell_type": "code",
   "execution_count": null,
   "metadata": {},
   "outputs": [],
   "source": []
  },
  {
   "cell_type": "code",
   "execution_count": null,
   "metadata": {},
   "outputs": [],
   "source": []
  },
  {
   "cell_type": "code",
   "execution_count": null,
   "metadata": {},
   "outputs": [],
   "source": []
  },
  {
   "cell_type": "code",
   "execution_count": null,
   "metadata": {},
   "outputs": [],
   "source": []
  }
 ],
 "metadata": {
  "kernelspec": {
   "display_name": "venv",
   "language": "python",
   "name": "python3"
  },
  "language_info": {
   "codemirror_mode": {
    "name": "ipython",
    "version": 3
   },
   "file_extension": ".py",
   "mimetype": "text/x-python",
   "name": "python",
   "nbconvert_exporter": "python",
   "pygments_lexer": "ipython3",
   "version": "3.12.3"
  }
 },
 "nbformat": 4,
 "nbformat_minor": 2
}
